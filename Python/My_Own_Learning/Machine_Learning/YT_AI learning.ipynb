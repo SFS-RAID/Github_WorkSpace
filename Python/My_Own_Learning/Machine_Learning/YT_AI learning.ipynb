{
 "cells": [
  {
   "attachments": {},
   "cell_type": "markdown",
   "metadata": {},
   "source": [
    "Test Accuracy"
   ]
  },
  {
   "cell_type": "code",
   "execution_count": 11,
   "metadata": {
    "tags": []
   },
   "outputs": [
    {
     "name": "stdout",
     "output_type": "stream",
     "text": [
      "Score = 50.0\n",
      "13    Expected = Acoustic, Prediction = Acoustic\n",
      "11       Expected = Dance, Prediction = Acoustic\n",
      "2           Expected = HipHop, Prediction = Jazz\n",
      "9           Expected = Dance, Prediction = Dance\n",
      "Name: genre, dtype: object\n"
     ]
    }
   ],
   "source": [
    "import pandas as pd\n",
    "from sklearn.tree import DecisionTreeClassifier\n",
    "from sklearn.model_selection import train_test_split\n",
    "from sklearn.metrics import accuracy_score\n",
    "\n",
    "opdat = 'genre'\n",
    "data = pd.read_csv('music.csv')\n",
    "DI = data.drop(columns=[opdat])\n",
    "DO = data[opdat]\n",
    "DI_train, DI_test, DO_train, DO_test = train_test_split(DI, DO, test_size=0.2)\n",
    "\n",
    "model = DecisionTreeClassifier()\n",
    "model.fit(DI_train, DO_train)\n",
    "predictions = model.predict(DI_test)\n",
    "\n",
    "score = accuracy_score(DO_test, predictions)\n",
    "print(f'Score = {score * 100}')\n",
    "print('Expected = ' + DO_test + ', Prediction = ' + predictions)"
   ]
  },
  {
   "attachments": {},
   "cell_type": "markdown",
   "metadata": {},
   "source": [
    "Create a Decision Tree Graph"
   ]
  },
  {
   "cell_type": "code",
   "execution_count": 9,
   "metadata": {
    "tags": []
   },
   "outputs": [],
   "source": [
    "import pandas as pd\n",
    "from sklearn.tree import DecisionTreeClassifier\n",
    "from sklearn import tree\n",
    "\n",
    "data = pd.read_csv('music.csv')\n",
    "DI = data.drop(columns=['genre'])\n",
    "DO = data['genre']\n",
    "\n",
    "model = DecisionTreeClassifier()\n",
    "model.fit(DI.values, DO.values)\n",
    "\n",
    "# joblib.load('musicgenre.joblib')\n",
    "# predictions = model.predict([ [21, 0], [46, 1] ])\n",
    "# predictions\n",
    "tree.export_graphviz(model, out_file='musicgenre.dot',\n",
    "                     feature_names=['age', 'gender'],\n",
    "                     class_names=sorted(DO.unique()),\n",
    "                     label='all', rounded=True, filled=True)"
   ]
  },
  {
   "attachments": {},
   "cell_type": "markdown",
   "metadata": {},
   "source": [
    "Save Model to a file and load"
   ]
  },
  {
   "cell_type": "code",
   "execution_count": 10,
   "metadata": {
    "tags": []
   },
   "outputs": [
    {
     "data": {
      "text/plain": [
       "array(['Dance', 'Classical'], dtype=object)"
      ]
     },
     "execution_count": 10,
     "metadata": {},
     "output_type": "execute_result"
    }
   ],
   "source": [
    "import pandas as pd\n",
    "from sklearn.tree import DecisionTreeClassifier\n",
    "import joblib\n",
    "\n",
    "# data = pd.read_csv('music.csv')\n",
    "# DI = data.drop(columns=['genre'])\n",
    "# DO = data['genre']\n",
    "\n",
    "# model = DecisionTreeClassifier()\n",
    "# model.fit(DI.values, DO.values)\n",
    "\n",
    "joblib.load('musicgenre.joblib')\n",
    "predictions = model.predict([ [21, 0], [46, 1] ])\n",
    "predictions"
   ]
  }
 ],
 "metadata": {
  "kernelspec": {
   "display_name": "Python 3",
   "language": "python",
   "name": "python3"
  },
  "language_info": {
   "codemirror_mode": {
    "name": "ipython",
    "version": 3
   },
   "file_extension": ".py",
   "mimetype": "text/x-python",
   "name": "python",
   "nbconvert_exporter": "python",
   "pygments_lexer": "ipython3",
   "version": "3.11.1"
  },
  "orig_nbformat": 4,
  "vscode": {
   "interpreter": {
    "hash": "98e723d6525a8d33d965ea080326716471de8b92be30d8e2b2bee4e2bc7d225a"
   }
  }
 },
 "nbformat": 4,
 "nbformat_minor": 2
}
